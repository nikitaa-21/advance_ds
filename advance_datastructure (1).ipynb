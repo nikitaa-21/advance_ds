{
 "cells": [
  {
   "cell_type": "code",
   "execution_count": null,
   "id": "81f1ec0e-7426-4841-84a8-bd38d4dd98d0",
   "metadata": {},
   "outputs": [],
   "source": [
    "\"\"\"\"1. Write code to reverse a string"
   ]
  },
  {
   "cell_type": "code",
   "execution_count": 13,
   "id": "0996fc99-391a-4622-95b9-5563e8305429",
   "metadata": {},
   "outputs": [
    {
     "data": {
      "text/plain": [
       "'atad'"
      ]
     },
     "execution_count": 13,
     "metadata": {},
     "output_type": "execute_result"
    }
   ],
   "source": [
    "s=\"data\"\n",
    "s[::-1]"
   ]
  },
  {
   "cell_type": "code",
   "execution_count": null,
   "id": "a1172c0c-648c-4f7b-afba-e07b35330bbd",
   "metadata": {},
   "outputs": [],
   "source": [
    "\"\"\"2. Write code to count the number of vowels in string"
   ]
  },
  {
   "cell_type": "code",
   "execution_count": 14,
   "id": "4c5b8e77-a7fe-4c14-a535-e0f416cecdcb",
   "metadata": {},
   "outputs": [
    {
     "name": "stdout",
     "output_type": "stream",
     "text": [
      "Number of vowels in the string: 3\n"
     ]
    }
   ],
   "source": [
    "s = \"Hello, World!\"\n",
    "\n",
    "vowels = \"aeiouAEIOU\"\n",
    "\n",
    "count = sum(1 for char in s if char in vowels)\n",
    "\n",
    "print(\"Number of vowels in the string:\", count)"
   ]
  },
  {
   "cell_type": "code",
   "execution_count": null,
   "id": "e6ce7f5f-4138-4c7f-b3b5-8b48c2434d64",
   "metadata": {},
   "outputs": [],
   "source": [
    "\"\"\"3. Write code to check if given string is palindrome or not"
   ]
  },
  {
   "cell_type": "code",
   "execution_count": 16,
   "id": "d2cff65c-aeea-40e5-aa04-f4a8059a3930",
   "metadata": {},
   "outputs": [
    {
     "name": "stdout",
     "output_type": "stream",
     "text": [
      "The string 'madam' is a palindrome.\n"
     ]
    }
   ],
   "source": [
    "string = \"madam\"\n",
    "\n",
    "palindrome = string == string[::-1]\n",
    "\n",
    "if palindrome:\n",
    "    print(f\"The string '{string}' is a palindrome.\")\n",
    "else:\n",
    "    print(f\"The string '{string}' is not a palindrome.\")"
   ]
  },
  {
   "cell_type": "code",
   "execution_count": null,
   "id": "018714c5-92ed-4a44-9ba3-7a5deaf8f03e",
   "metadata": {},
   "outputs": [],
   "source": [
    "\"\"\"4. Write code to check if two given strings are anagram of each other"
   ]
  },
  {
   "cell_type": "code",
   "execution_count": 18,
   "id": "533ac1e4-57a7-41e9-8777-7160b8cd99d3",
   "metadata": {},
   "outputs": [
    {
     "name": "stdout",
     "output_type": "stream",
     "text": [
      "The strings 'listen' and 'silent' are anagrams.\n"
     ]
    }
   ],
   "source": [
    "string1 = \"listen\"\n",
    "string2 = \"silent\"\n",
    "\n",
    "sorted_string1 = sorted(string1)\n",
    "sorted_string2 = sorted(string2)\n",
    "\n",
    "\n",
    "if sorted_string1 == sorted_string2:\n",
    "    print(f\"The strings '{string1}' and '{string2}' are anagrams.\")\n",
    "else:\n",
    "    print(f\"The strings '{string1}' and '{string2}' are not anagrams.\")"
   ]
  },
  {
   "cell_type": "code",
   "execution_count": null,
   "id": "2e4e72c5-85cf-474f-8957-8068e6a0280d",
   "metadata": {},
   "outputs": [],
   "source": [
    "\"\"\"5. Write code to find all occurrence of a given substring within another string"
   ]
  },
  {
   "cell_type": "code",
   "execution_count": 19,
   "id": "44693186-ff72-4582-bf3b-1b94fdaa80b8",
   "metadata": {},
   "outputs": [
    {
     "name": "stdout",
     "output_type": "stream",
     "text": [
      "All occurrences of 'test' are at positions: [10, 38]\n"
     ]
    }
   ],
   "source": [
    "original_string = \"This is a test string. This is only a test.\"\n",
    "\n",
    "substring = \"test\"\n",
    "\n",
    "positions = [i for i in range(len(original_string)) if original_string.startswith(substring, i)]\n",
    "\n",
    "print(f\"All occurrences of '{substring}' are at positions: {positions}\")"
   ]
  },
  {
   "cell_type": "code",
   "execution_count": null,
   "id": "cc91a7ab-f7e5-4358-9e14-93d22abf716d",
   "metadata": {},
   "outputs": [],
   "source": [
    "\"\"\"6. Write a code to perform basic string compression using the count of repeated character"
   ]
  },
  {
   "cell_type": "code",
   "execution_count": null,
   "id": "24fbe15f-34a3-4441-aae0-da58cd7195ca",
   "metadata": {},
   "outputs": [],
   "source": [
    "text = \"aabbccddddee\"\n",
    "\n",
    "compressed_text = \"\"\n",
    "index = 0\n",
    "\n",
    "while index < len(text):\n",
    "    count = 1\n",
    "    \n",
    "    while index + 1 < len(text) and text[index] == text[index + 1]:\n",
    "        index += 1\n",
    "        count += 1\n",
    "  \n",
    "    compressed_text += text[index] + str(count)\n",
    "    index += 1\n",
    "\n",
    "\n",
    "print(\"Compressed string:\", compressed_text)\n"
   ]
  },
  {
   "cell_type": "code",
   "execution_count": null,
   "id": "476c0b86-6f68-4e29-b07d-a1e9410c56c9",
   "metadata": {},
   "outputs": [],
   "source": [
    "\"\"\"7. Write a code to determine if a string has all unique characters"
   ]
  },
  {
   "cell_type": "code",
   "execution_count": 26,
   "id": "757e67d1-a051-4ceb-a768-b2a039ca8202",
   "metadata": {},
   "outputs": [
    {
     "name": "stdout",
     "output_type": "stream",
     "text": [
      "The string 'abcdefg' has all unique characters.\n"
     ]
    }
   ],
   "source": [
    "string = \"abcdefg\"\n",
    "\n",
    "unique_characters = len(string) == len(set(string))\n",
    "\n",
    "if unique_characters:\n",
    "    print(f\"The string '{string}' has all unique characters.\")\n",
    "else:\n",
    "    print(f\"The string '{string}' does not have all unique characters.\")"
   ]
  },
  {
   "cell_type": "code",
   "execution_count": null,
   "id": "e972360c-e365-4b8f-b522-fa27998b247f",
   "metadata": {},
   "outputs": [],
   "source": [
    "\"\"\"8. Write a code to convert a given string to uppercase or lowercase"
   ]
  },
  {
   "cell_type": "code",
   "execution_count": 29,
   "id": "22fc29f9-5647-4251-91e3-89f7c478393d",
   "metadata": {},
   "outputs": [
    {
     "data": {
      "text/plain": [
       "'HELLO, WORLD!'"
      ]
     },
     "execution_count": 29,
     "metadata": {},
     "output_type": "execute_result"
    }
   ],
   "source": [
    "string = \"Hello, World!\"\n",
    "\n",
    "uppercase = string.upper()\n",
    "uppercase"
   ]
  },
  {
   "cell_type": "code",
   "execution_count": 30,
   "id": "21dce858-fd18-4d78-a350-04d08f1b94f4",
   "metadata": {},
   "outputs": [
    {
     "data": {
      "text/plain": [
       "'hello, world!'"
      ]
     },
     "execution_count": 30,
     "metadata": {},
     "output_type": "execute_result"
    }
   ],
   "source": [
    "lowercase=string.lower()\n",
    "lowercase"
   ]
  },
  {
   "cell_type": "code",
   "execution_count": null,
   "id": "578727f2-4bb7-4530-96a7-aedce4ab8e7d",
   "metadata": {},
   "outputs": [],
   "source": [
    "\"\"\"9. Write a code to count the number of words in a string"
   ]
  },
  {
   "cell_type": "code",
   "execution_count": 34,
   "id": "89528ef8-594b-469f-baa6-64d60b901f8d",
   "metadata": {},
   "outputs": [
    {
     "data": {
      "text/plain": [
       "4"
      ]
     },
     "execution_count": 34,
     "metadata": {},
     "output_type": "execute_result"
    }
   ],
   "source": [
    "string = \"This is a sentence\"\n",
    "\n",
    "count = len(string.split())\n",
    "count"
   ]
  },
  {
   "cell_type": "code",
   "execution_count": null,
   "id": "64956faa-ee4e-496a-bc42-cd73122ce967",
   "metadata": {},
   "outputs": [],
   "source": [
    "\"\"\"10. Write a code to concatenate two strings without using the + operator"
   ]
  },
  {
   "cell_type": "code",
   "execution_count": 35,
   "id": "75bc7c75-ef4b-445d-8803-22be1f56c2a3",
   "metadata": {},
   "outputs": [
    {
     "data": {
      "text/plain": [
       "'Hello, World!'"
      ]
     },
     "execution_count": 35,
     "metadata": {},
     "output_type": "execute_result"
    }
   ],
   "source": [
    "string1 = \"Hello, \"\n",
    "string2 = \"World!\"\n",
    "\n",
    "concatenated_string = ''.join([string1, string2])\n",
    "concatenated_string"
   ]
  },
  {
   "cell_type": "code",
   "execution_count": null,
   "id": "61960051-caea-4a81-b759-560c94c1aade",
   "metadata": {},
   "outputs": [],
   "source": [
    "\"\"\"11. Write a code to remove all occurrennce of a specific element from  list"
   ]
  },
  {
   "cell_type": "code",
   "execution_count": 36,
   "id": "f02041ff-1dd0-43e2-8867-153bdf815154",
   "metadata": {},
   "outputs": [
    {
     "data": {
      "text/plain": [
       "[1, 3, 4, 5, 6]"
      ]
     },
     "execution_count": 36,
     "metadata": {},
     "output_type": "execute_result"
    }
   ],
   "source": [
    "l = [1, 2, 3, 4, 2, 5, 2, 6]\n",
    "\n",
    "element_to_remove = 2\n",
    "\n",
    "new_list = [item for item in l if item != element_to_remove]\n",
    "new_list"
   ]
  },
  {
   "cell_type": "code",
   "execution_count": null,
   "id": "dcca1204-101a-4d8e-b0d4-32d1a58c0548",
   "metadata": {},
   "outputs": [],
   "source": [
    "\"\"\"12. Implement a code to find the second larger number in a given list of integers"
   ]
  },
  {
   "cell_type": "code",
   "execution_count": 37,
   "id": "c52d0fb6-2603-4478-853b-a2e7498cd8d7",
   "metadata": {},
   "outputs": [
    {
     "data": {
      "text/plain": [
       "45"
      ]
     },
     "execution_count": 37,
     "metadata": {},
     "output_type": "execute_result"
    }
   ],
   "source": [
    "numbers = [10, 20, 4, 45, 99]\n",
    "\n",
    "sorted_numbers = sorted(numbers, reverse=True)\n",
    "\n",
    "second_largest = None\n",
    "\n",
    "for i in range(1, len(sorted_numbers)):\n",
    "    if sorted_numbers[i] != sorted_numbers[0]:\n",
    "        second_largest = sorted_numbers[i]\n",
    "        break\n",
    "\n",
    "second_largest"
   ]
  },
  {
   "cell_type": "code",
   "execution_count": null,
   "id": "5a93a5f0-bc33-4dee-96c8-689ff2418816",
   "metadata": {},
   "outputs": [],
   "source": [
    "\"\"\"13. Create a code to count the occurrence of each element in 'a list and return a dictionary\n",
    " with elements as keys and their counts as values"
   ]
  },
  {
   "cell_type": "code",
   "execution_count": 39,
   "id": "a8b303e0-0762-4aac-9e03-e6d96bbf6faf",
   "metadata": {},
   "outputs": [
    {
     "data": {
      "text/plain": [
       "{1: 1, 2: 2, 3: 3, 4: 4}"
      ]
     },
     "execution_count": 39,
     "metadata": {},
     "output_type": "execute_result"
    }
   ],
   "source": [
    "elements = [1, 2, 2, 3, 3, 3, 4, 4, 4, 4]\n",
    "\n",
    "count_dict = {}\n",
    "\n",
    "for element in elements:\n",
    "    if element in count_dict:\n",
    "        count_dict[element] += 1\n",
    "    else:\n",
    "        count_dict[element] = 1\n",
    "\n",
    "count_dict"
   ]
  },
  {
   "cell_type": "code",
   "execution_count": null,
   "id": "f043f0d3-f6ee-482a-8a88-cd0d87654434",
   "metadata": {},
   "outputs": [],
   "source": [
    "\"\"\"14. Write a code to reverse a list in-place without using any built-in reverse function"
   ]
  },
  {
   "cell_type": "code",
   "execution_count": 41,
   "id": "df159e5b-1c47-46aa-a648-ff50190083c6",
   "metadata": {},
   "outputs": [
    {
     "data": {
      "text/plain": [
       "[5, 4, 3, 2, 1]"
      ]
     },
     "execution_count": 41,
     "metadata": {},
     "output_type": "execute_result"
    }
   ],
   "source": [
    "l = [1, 2, 3, 4, 5]\n",
    "\n",
    "left = 0\n",
    "right = len(l) - 1\n",
    "\n",
    "while left < right:\n",
    "    l[left], l[right] = l[right], l[left]\n",
    "    left += 1\n",
    "    right -= 1\n",
    "\n",
    "l"
   ]
  },
  {
   "cell_type": "code",
   "execution_count": null,
   "id": "d1810234-ccfc-49d7-adef-3da4337f019a",
   "metadata": {},
   "outputs": [],
   "source": [
    "\"\"\"15. Implement a code to find and remove duplicate from list while preserving the original order of elements"
   ]
  },
  {
   "cell_type": "code",
   "execution_count": 43,
   "id": "c2653f74-8ca3-490c-bc1f-c75c9effd66c",
   "metadata": {},
   "outputs": [
    {
     "name": "stdout",
     "output_type": "stream",
     "text": [
      "List after removing duplicates: [1, 2, 3, 4, 5, 6]\n"
     ]
    }
   ],
   "source": [
    "original_list = [1, 2, 3, 2, 4, 3, 5, 6, 4]\n",
    "\n",
    "seen = set()\n",
    "\n",
    "result_list = []\n",
    "\n",
    "for item in original_list:\n",
    "       if item not in seen:\n",
    "        result_list.append(item)\n",
    "        seen.add(item)\n",
    "print(\"List after removing duplicates:\", result_list)"
   ]
  },
  {
   "cell_type": "code",
   "execution_count": null,
   "id": "d5990174-cf2f-46e6-9c4e-6f201d50d8a9",
   "metadata": {},
   "outputs": [],
   "source": [
    "\"\"\"16.Create a code to check if a given list is sorted (either in ascending or descending order) or not"
   ]
  },
  {
   "cell_type": "code",
   "execution_count": 44,
   "id": "030d27ba-321c-48c2-a4fe-91a8d0189c1f",
   "metadata": {},
   "outputs": [
    {
     "name": "stdout",
     "output_type": "stream",
     "text": [
      "The list is sorted in ascending order.\n",
      "The list is sorted in descending order.\n",
      "The list is not sorted.\n"
     ]
    }
   ],
   "source": [
    "def is_sorted(lst):\n",
    "  \n",
    "    is_ascending = all(lst[i] <= lst[i + 1] for i in range(len(lst) - 1))\n",
    "    \n",
    "  \n",
    "    is_descending = all(lst[i] >= lst[i + 1] for i in range(len(lst) - 1))\n",
    "   \n",
    "    if is_ascending:\n",
    "        return \"The list is sorted in ascending order.\"\n",
    "    elif is_descending:\n",
    "        return \"The list is sorted in descending order.\"\n",
    "    else:\n",
    "        return \"The list is not sorted.\"\n",
    "\n",
    "\n",
    "list1 = [1, 2, 3, 4, 5]   \n",
    "list2 = [5, 4, 3, 2, 1]   \n",
    "list3 = [1, 3, 2, 4, 5]    \n",
    "\n",
    "\n",
    "print(is_sorted(list1)) \n",
    "print(is_sorted(list2))  \n",
    "print(is_sorted(list3))  \n"
   ]
  },
  {
   "cell_type": "code",
   "execution_count": null,
   "id": "51ef25be-1a41-4239-a5fe-14c4de8d467b",
   "metadata": {},
   "outputs": [],
   "source": [
    "\"\"\"17.  Write a code to merge two sorted lists into a single sorted list"
   ]
  },
  {
   "cell_type": "code",
   "execution_count": 45,
   "id": "f4a4e474-f266-40dd-bff0-fe775d1f13dc",
   "metadata": {},
   "outputs": [
    {
     "data": {
      "text/plain": [
       "[1, 2, 3, 4, 5, 6, 7, 8]"
      ]
     },
     "execution_count": 45,
     "metadata": {},
     "output_type": "execute_result"
    }
   ],
   "source": [
    "sorted_list1 = [1, 3, 5, 7]\n",
    "sorted_list2 = [2, 4, 6, 8]\n",
    "\n",
    "i, j = 0, 0\n",
    "merged_list = []\n",
    "\n",
    "while i < len(sorted_list1) and j < len(sorted_list2):\n",
    "    if sorted_list1[i] < sorted_list2[j]:\n",
    "        merged_list.append(sorted_list1[i])\n",
    "        i += 1\n",
    "    else:\n",
    "        merged_list.append(sorted_list2[j])\n",
    "        j += 1\n",
    "\n",
    "while i < len(sorted_list1):\n",
    "    merged_list.append(sorted_list1[i])\n",
    "    i += 1\n",
    "\n",
    "while j < len(sorted_list2):\n",
    "    merged_list.append(sorted_list2[j])\n",
    "    j += 1\n",
    "\n",
    "merged_list"
   ]
  },
  {
   "cell_type": "code",
   "execution_count": null,
   "id": "00be0b7c-bb2d-4369-aef2-4af8776aacb0",
   "metadata": {},
   "outputs": [],
   "source": [
    "\"\"\"18. Implement a code to find the intersection of two given lists"
   ]
  },
  {
   "cell_type": "code",
   "execution_count": 46,
   "id": "e21f2bb8-2fd5-4304-8020-8646babe7803",
   "metadata": {},
   "outputs": [
    {
     "data": {
      "text/plain": [
       "{4, 5}"
      ]
     },
     "execution_count": 46,
     "metadata": {},
     "output_type": "execute_result"
    }
   ],
   "source": [
    "list1 = [1, 2, 3, 4, 5]\n",
    "list2 = [4, 5, 6, 7, 8]\n",
    "\n",
    "set1 = set(list1)\n",
    "set2 = set(list2)\n",
    "\n",
    "intersection = set1 & set2\n",
    "\n",
    "intersection"
   ]
  },
  {
   "cell_type": "code",
   "execution_count": null,
   "id": "1d798198-7651-4b43-a287-aa6d117ed0c0",
   "metadata": {},
   "outputs": [],
   "source": [
    "\"\"\"19. Create a code to find the union of two lists without duplicates"
   ]
  },
  {
   "cell_type": "code",
   "execution_count": 47,
   "id": "0225e157-2f61-49b3-9255-6ce77d68ef99",
   "metadata": {},
   "outputs": [
    {
     "data": {
      "text/plain": [
       "{1, 2, 3, 4, 5, 6, 7, 8}"
      ]
     },
     "execution_count": 47,
     "metadata": {},
     "output_type": "execute_result"
    }
   ],
   "source": [
    "list1 = [1, 2, 3, 4, 5]\n",
    "list2 = [4, 5, 6, 7, 8]\n",
    "\n",
    "set1 = set(list1)\n",
    "set2 = set(list2)\n",
    "\n",
    "union = set1 | set2\n",
    "\n",
    "union"
   ]
  },
  {
   "cell_type": "code",
   "execution_count": null,
   "id": "ac8cbef1-dd6b-4f82-ba0e-56629a368327",
   "metadata": {},
   "outputs": [],
   "source": [
    "\"\"\"20. Write a code to shuffle a given list randomly without using any built-in shuffle functions"
   ]
  },
  {
   "cell_type": "code",
   "execution_count": 48,
   "id": "df5585b8-7361-4af6-9459-09928ebca75b",
   "metadata": {},
   "outputs": [
    {
     "data": {
      "text/plain": [
       "[2, 1, 4, 5, 3]"
      ]
     },
     "execution_count": 48,
     "metadata": {},
     "output_type": "execute_result"
    }
   ],
   "source": [
    "import random\n",
    "\n",
    "l= [1, 2, 3, 4, 5]\n",
    "\n",
    "n = len(l)\n",
    "for i in range(n - 1, 0, -1):\n",
    "    j = random.randint(0, i)\n",
    "    l[i], l[j] = l[j], l[i]\n",
    "\n",
    "l"
   ]
  },
  {
   "cell_type": "code",
   "execution_count": null,
   "id": "01710ab2-15c6-4143-8d4a-27159a2817c0",
   "metadata": {},
   "outputs": [],
   "source": [
    "\"\"\"21. Write a code that takes two tuples as input and returna a new tuple containing elements that are \n",
    "common to both input tuples"
   ]
  },
  {
   "cell_type": "code",
   "execution_count": 49,
   "id": "ab2227b6-9ce0-4029-8322-4ea42428416c",
   "metadata": {},
   "outputs": [
    {
     "data": {
      "text/plain": [
       "(4, 5)"
      ]
     },
     "execution_count": 49,
     "metadata": {},
     "output_type": "execute_result"
    }
   ],
   "source": [
    "tuple1 = (1, 2, 3, 4, 5)\n",
    "tuple2 = (4, 5, 6, 7, 8)\n",
    "\n",
    "common_elements = tuple(set(tuple1) & set(tuple2))\n",
    "\n",
    "common_elements"
   ]
  },
  {
   "cell_type": "code",
   "execution_count": null,
   "id": "58a7a5ba-33d9-4611-84e9-d127c81e7e7e",
   "metadata": {},
   "outputs": [],
   "source": [
    "\"\"\"22. Create a code that prompts the user to enter two sets of integers separated by commas.\n",
    "Then, print the intersection of these two sets"
   ]
  },
  {
   "cell_type": "code",
   "execution_count": 50,
   "id": "60003753-d691-40ba-88f4-69ea88fbf8f0",
   "metadata": {},
   "outputs": [
    {
     "name": "stdin",
     "output_type": "stream",
     "text": [
      "Enter the first set of integers separated by commas:  2,3,5,6\n",
      "Enter the second set of integers separated by commas:  3,7,5,2\n"
     ]
    },
    {
     "data": {
      "text/plain": [
       "{2, 3, 5}"
      ]
     },
     "execution_count": 50,
     "metadata": {},
     "output_type": "execute_result"
    }
   ],
   "source": [
    "input1 = input(\"Enter the first set of integers separated by commas: \")\n",
    "input2 = input(\"Enter the second set of integers separated by commas: \")\n",
    "\n",
    "set1 = set(map(int, input1.split(',')))\n",
    "set2 = set(map(int, input2.split(',')))\n",
    "\n",
    "intersection = set1 & set2\n",
    "\n",
    "intersection"
   ]
  },
  {
   "cell_type": "code",
   "execution_count": null,
   "id": "4aeed02b-babb-4674-b87c-c864efb77dea",
   "metadata": {},
   "outputs": [],
   "source": [
    "\"\"\"23. Write a code to concatenate two tuples. The function should take two tuples as input and return a\n",
    "new tuple containing elements from both input tuples."
   ]
  },
  {
   "cell_type": "code",
   "execution_count": 51,
   "id": "102a475e-4475-4b09-ad71-4037fbbfd70b",
   "metadata": {},
   "outputs": [
    {
     "data": {
      "text/plain": [
       "(1, 2, 3, 4, 5, 6)"
      ]
     },
     "execution_count": 51,
     "metadata": {},
     "output_type": "execute_result"
    }
   ],
   "source": [
    "def concatenate_tuples(tuple1, tuple2):\n",
    "    return tuple1 + tuple2\n",
    "\n",
    "tuple1 = (1, 2, 3)\n",
    "tuple2 = (4, 5, 6)\n",
    "\n",
    "result = concatenate_tuples(tuple1, tuple2)\n",
    "\n",
    "result"
   ]
  },
  {
   "cell_type": "code",
   "execution_count": null,
   "id": "aa87d26a-1bbc-4bcc-854c-366dcf341254",
   "metadata": {},
   "outputs": [],
   "source": [
    "\"\"\"24. Develop a code that prompts the user to input two sets of strings. \n",
    "Then print the elements that are present in the first set but not in the second set"
   ]
  },
  {
   "cell_type": "code",
   "execution_count": 1,
   "id": "d5ef105c-43a8-4006-b151-3fb3d9cd762b",
   "metadata": {},
   "outputs": [
    {
     "name": "stdin",
     "output_type": "stream",
     "text": [
      "Enter the first set of strings:  3,5,6,3\n",
      "Enter the second set of strings:  5,8,9,2\n"
     ]
    },
    {
     "data": {
      "text/plain": [
       "{'3', '6'}"
      ]
     },
     "execution_count": 1,
     "metadata": {},
     "output_type": "execute_result"
    }
   ],
   "source": [
    "input1 = input(\"Enter the first set of strings: \")\n",
    "input2 = input(\"Enter the second set of strings: \")\n",
    "\n",
    "set1 = set(input1.split(','))\n",
    "set2 = set(input2.split(','))\n",
    "\n",
    "difference = set1 - set2\n",
    "\n",
    "difference"
   ]
  },
  {
   "cell_type": "code",
   "execution_count": null,
   "id": "848a0bf1-a517-49cf-bc19-3f87d8e5e68d",
   "metadata": {},
   "outputs": [],
   "source": [
    "\"\"\"25. Create a code that takes a tuple and two integers as input. The function should return a new tuple \n",
    "containing elements from the original tuple within the specified range of indices"
   ]
  },
  {
   "cell_type": "code",
   "execution_count": 3,
   "id": "1ed7c86a-62bd-4d44-b99d-aa6c36fc8f88",
   "metadata": {},
   "outputs": [
    {
     "name": "stdout",
     "output_type": "stream",
     "text": [
      "Sliced tuple: (3, 4, 5, 6)\n"
     ]
    }
   ],
   "source": [
    "def tuple_slice(original_tuple, start_index, end_index):\n",
    "    return original_tuple[start_index:end_index]\n",
    "\n",
    "original_tuple = (1, 2, 3, 4, 5, 6, 7, 8, 9, 10)\n",
    "start_index = 2\n",
    "end_index = 6\n",
    "\n",
    "result = tuple_slice(original_tuple, start_index, end_index)\n",
    "\n",
    "print(\"Sliced tuple:\", result)"
   ]
  },
  {
   "cell_type": "code",
   "execution_count": null,
   "id": "53defbdb-1615-4c19-83a4-f11d4c7c960d",
   "metadata": {},
   "outputs": [],
   "source": [
    "\"\"\"26. Write a code that prompts the user to input two sets of characters. Then print the union of these two sets"
   ]
  },
  {
   "cell_type": "code",
   "execution_count": 4,
   "id": "d9e49aa6-75d2-46f9-8cc8-aba0d2dc4e87",
   "metadata": {},
   "outputs": [
    {
     "name": "stdin",
     "output_type": "stream",
     "text": [
      "Enter the first set:  a,g,v,r,c\n",
      "Enter the second set:  r,v,r,t,j\n"
     ]
    },
    {
     "data": {
      "text/plain": [
       "{'a', 'c', 'g', 'j', 'r', 't', 'v'}"
      ]
     },
     "execution_count": 4,
     "metadata": {},
     "output_type": "execute_result"
    }
   ],
   "source": [
    "input1 = input(\"Enter the first set: \")\n",
    "input2 = input(\"Enter the second set: \")\n",
    "\n",
    "set1 = set(input1.split(','))\n",
    "set2 = set(input2.split(','))\n",
    "\n",
    "union_set = set1 | set2\n",
    "\n",
    "union_set"
   ]
  },
  {
   "cell_type": "code",
   "execution_count": null,
   "id": "04e55c41-5e58-425a-8844-9d0421407bef",
   "metadata": {},
   "outputs": [],
   "source": [
    "\"\"\"27. Develop a code that takes a tuple of integers as input. The function should return the maximum and\n",
    "minimum values from the tuple using tuple unpacking"
   ]
  },
  {
   "cell_type": "code",
   "execution_count": 5,
   "id": "a43fe6b3-0bd7-48c6-b1f6-29d0181f6caa",
   "metadata": {},
   "outputs": [
    {
     "name": "stdout",
     "output_type": "stream",
     "text": [
      "Maximum value: 9\n",
      "Minimum value: 1\n"
     ]
    }
   ],
   "source": [
    "def find_max_min(input_tuple):\n",
    "    max_value = max(input_tuple)\n",
    "    min_value = min(input_tuple)\n",
    "    return max_value, min_value\n",
    "\n",
    "input_tuple = (3, 1, 4, 1, 5, 9, 2, 6, 5, 3, 5)\n",
    "\n",
    "max_value, min_value = find_max_min(input_tuple)\n",
    "\n",
    "print(\"Maximum value:\", max_value)\n",
    "print(\"Minimum value:\", min_value)"
   ]
  },
  {
   "cell_type": "code",
   "execution_count": null,
   "id": "b3d07739-446d-41e6-9a6f-860838791114",
   "metadata": {},
   "outputs": [],
   "source": [
    "\"\"\"28. Create a code that defines two sets of integers. Then print the union intersection and difference \n",
    "of these two sets"
   ]
  },
  {
   "cell_type": "code",
   "execution_count": 6,
   "id": "3427c242-4be2-440e-810c-0d3506b8ba49",
   "metadata": {},
   "outputs": [
    {
     "name": "stdout",
     "output_type": "stream",
     "text": [
      "Set 1: {1, 2, 3, 4, 5}\n",
      "Set 2: {4, 5, 6, 7, 8}\n",
      "Union of the two sets: {1, 2, 3, 4, 5, 6, 7, 8}\n",
      "Intersection of the two sets: {4, 5}\n",
      "Difference of the two sets (set1 - set2): {1, 2, 3}\n"
     ]
    }
   ],
   "source": [
    "set1 = {1, 2, 3, 4, 5}\n",
    "set2 = {4, 5, 6, 7, 8}\n",
    "\n",
    "union_set = set1 | set2\n",
    "\n",
    "intersection_set = set1 & set2\n",
    "\n",
    "difference_set = set1 - set2\n",
    "\n",
    "\n",
    "print(\"Set 1:\", set1)\n",
    "print(\"Set 2:\", set2)\n",
    "print(\"Union of the two sets:\", union_set)\n",
    "print(\"Intersection of the two sets:\", intersection_set)\n",
    "print(\"Difference of the two sets (set1 - set2):\", difference_set)"
   ]
  },
  {
   "cell_type": "code",
   "execution_count": null,
   "id": "5c3c5c41-1213-4c8b-a2a8-7061ba33fcc2",
   "metadata": {},
   "outputs": [],
   "source": [
    "\"\"\"29. Write a code that takes a tuple and an element as input. The function should return the count of \n",
    "occurrences of the given element in the tuple"
   ]
  },
  {
   "cell_type": "code",
   "execution_count": 7,
   "id": "e32b7bd3-e96c-48a9-b3e5-da4881582246",
   "metadata": {},
   "outputs": [
    {
     "name": "stdout",
     "output_type": "stream",
     "text": [
      "The element 1 occurs 4 times in the tuple.\n"
     ]
    }
   ],
   "source": [
    "def count_occurrences(input_tuple, element):\n",
    "    return input_tuple.count(element)\n",
    "\n",
    "input_tuple = (1, 2, 3, 1, 4, 1, 5, 1, 6)\n",
    "element = 1\n",
    "\n",
    "count = count_occurrences(input_tuple, element)\n",
    "\n",
    "\n",
    "print(\"The element\", element, \"occurs\", count, \"times in the tuple.\")"
   ]
  },
  {
   "cell_type": "code",
   "execution_count": null,
   "id": "7f6a416b-097b-451a-a27e-708af24b0c6b",
   "metadata": {},
   "outputs": [],
   "source": [
    "\"\"\"30. Develop a code that prompts the user to input two sets of strings. Then print the symmetric difference\n",
    "of these two sets"
   ]
  },
  {
   "cell_type": "code",
   "execution_count": 8,
   "id": "7ae9bdbe-1545-4713-8266-2c0e3fa9fd23",
   "metadata": {},
   "outputs": [
    {
     "name": "stdin",
     "output_type": "stream",
     "text": [
      "Enter the first set:  a,d,b,r,t\n",
      "Enter the second set:  c,g,t,e,r\n"
     ]
    },
    {
     "data": {
      "text/plain": [
       "{'a', 'b', 'c', 'd', 'e', 'g'}"
      ]
     },
     "execution_count": 8,
     "metadata": {},
     "output_type": "execute_result"
    }
   ],
   "source": [
    "input1 = input(\"Enter the first set: \")\n",
    "input2 = input(\"Enter the second set: \")\n",
    "\n",
    "set1 = set(input1.split(','))\n",
    "set2 = set(input2.split(','))\n",
    "\n",
    "symmetric_difference = set1 ^ set2\n",
    "\n",
    "symmetric_difference"
   ]
  },
  {
   "cell_type": "code",
   "execution_count": null,
   "id": "7706ac33-0631-45bc-859a-5deec9962af0",
   "metadata": {},
   "outputs": [],
   "source": [
    "\"\"\"31. Write a code that takes a list of words as input and returns a dictionary where the keys are unique \n",
    "words and the values are the frequencies of those words in the input list"
   ]
  },
  {
   "cell_type": "code",
   "execution_count": 11,
   "id": "f7de8b6d-ba02-40dc-b79f-1d3869d0b8e9",
   "metadata": {},
   "outputs": [
    {
     "name": "stdin",
     "output_type": "stream",
     "text": [
      "Enter the words:  bvb nhbh bvb njumh nhbh\n"
     ]
    },
    {
     "name": "stdout",
     "output_type": "stream",
     "text": [
      "Word frequencies: {'bvb': 2, 'nhbh': 2, 'njumh': 1}\n"
     ]
    }
   ],
   "source": [
    "input_string = input(\"Enter the words: \")\n",
    "\n",
    "word_list = input_string.split()\n",
    "\n",
    "frequency_dict = {}\n",
    "\n",
    "for word in word_list:\n",
    "    if word in frequency_dict:\n",
    "        frequency_dict[word] += 1\n",
    "    else:\n",
    "        frequency_dict[word] = 1\n",
    "\n",
    "print(\"Word frequencies:\", frequency_dict)"
   ]
  },
  {
   "cell_type": "code",
   "execution_count": null,
   "id": "4af026f3-31a7-4940-b978-1035b5f26f7c",
   "metadata": {},
   "outputs": [],
   "source": [
    "\"\"\"32. Write a code that takes two dictionaries as input and merges them into a single dictionary. \n",
    "If there are common keys then values should be added together"
   ]
  },
  {
   "cell_type": "code",
   "execution_count": 12,
   "id": "f29359f0-2c85-416b-a5c6-e6b21b721d37",
   "metadata": {},
   "outputs": [
    {
     "name": "stdin",
     "output_type": "stream",
     "text": [
      "Enter the first dictionary:  a:1, b:2, c:3\n",
      "Enter the second dictionary:  b:3, c:4, d:5\n"
     ]
    },
    {
     "name": "stdout",
     "output_type": "stream",
     "text": [
      "Merged dictionary: {'a': 1, 'b': 5, 'c': 7, 'd': 5}\n"
     ]
    }
   ],
   "source": [
    "input_dict1 = input(\"Enter the first dictionary: \")\n",
    "dict1 = dict(map(lambda x: (x.split(':')[0], int(x.split(':')[1])), input_dict1.split(', ')))\n",
    "\n",
    "input_dict2 = input(\"Enter the second dictionary: \")\n",
    "dict2 = dict(map(lambda x: (x.split(':')[0], int(x.split(':')[1])), input_dict2.split(', ')))\n",
    "\n",
    "merged_dict = {}\n",
    "\n",
    "for key, value in dict1.items():\n",
    "    if key in merged_dict:\n",
    "        merged_dict[key] += value\n",
    "    else:\n",
    "        merged_dict[key] = value\n",
    "\n",
    "for key, value in dict2.items():\n",
    "    if key in merged_dict:\n",
    "        merged_dict[key] += value\n",
    "    else:\n",
    "        merged_dict[key] = value\n",
    "\n",
    "\n",
    "print(\"Merged dictionary:\", merged_dict)"
   ]
  },
  {
   "cell_type": "code",
   "execution_count": null,
   "id": "63668e65-6da5-4f1a-a8c5-5efa1b7e8e3a",
   "metadata": {},
   "outputs": [],
   "source": [
    "\"\"\"33. Write a code to access a value in a nested dictionary. The function should take the dictionary and a\n",
    "list of keys as input and return the corresponding value. If any of the keys do not exist in the dictionary \n",
    "the function should return None"
   ]
  },
  {
   "cell_type": "code",
   "execution_count": 13,
   "id": "8071257b-d2d4-471a-a073-cc01822a0499",
   "metadata": {},
   "outputs": [
    {
     "name": "stdout",
     "output_type": "stream",
     "text": [
      "The value for keys ['a', 'b', 'c'] is: 42\n",
      "The value for keys ['a', 'b', 'd'] is: None\n"
     ]
    }
   ],
   "source": [
    "def get_value(dictionary, keys):\n",
    "    current_value = dictionary\n",
    "    for key in keys:\n",
    "        if key in current_value:\n",
    "            current_value = current_value[key]\n",
    "        else:\n",
    "            return None\n",
    "    return current_value\n",
    "\n",
    "dictionary = {\n",
    "    'a': {\n",
    "        'b': {\n",
    "            'c': 42\n",
    "        }\n",
    "    },\n",
    "    'x': {\n",
    "        'y': {\n",
    "            'z': 100\n",
    "        }\n",
    "    }\n",
    "}\n",
    "\n",
    "\n",
    "keys = ['a', 'b', 'c']\n",
    "\n",
    "\n",
    "value = get_value(dictionary, keys)\n",
    "\n",
    "\n",
    "print(\"The value for keys\", keys, \"is:\", value)\n",
    "\n",
    "\n",
    "keys_non_existing = ['a', 'b', 'd']\n",
    "value_non_existing = get_value(dictionary, keys_non_existing)\n",
    "print(\"The value for keys\", keys_non_existing, \"is:\", value_non_existing)"
   ]
  },
  {
   "cell_type": "code",
   "execution_count": null,
   "id": "f6af7e24-cccb-4d7c-8518-cc4be57a8506",
   "metadata": {},
   "outputs": [],
   "source": [
    "\"\"\"34. Write a code that takes a dictionary as input and returns a sorted version of it based on the values. \n",
    "You can choose whether to sort in ascending or descending order"
   ]
  },
  {
   "cell_type": "code",
   "execution_count": 14,
   "id": "d84168c6-0548-4768-83c2-fe86fb41e96e",
   "metadata": {},
   "outputs": [
    {
     "name": "stdout",
     "output_type": "stream",
     "text": [
      "Sorted dictionary in ascending order: {'b': 1, 'c': 2, 'a': 3, 'd': 4}\n"
     ]
    }
   ],
   "source": [
    "def sort_dict_by_values(dictionary, ascending=True):\n",
    "  \n",
    "    sorted_dict = dict(sorted(dictionary.items(), key=lambda item: item[1], reverse=not ascending))\n",
    "    return sorted_dict\n",
    "\n",
    "\n",
    "input_dict = {\n",
    "    'a': 3,\n",
    "    'b': 1,\n",
    "    'c': 2,\n",
    "    'd': 4\n",
    "}\n",
    "\n",
    "\n",
    "sorted_dict_ascending = sort_dict_by_values(input_dict, ascending=True)\n",
    "print(\"Sorted dictionary in ascending order:\", sorted_dict_ascending)"
   ]
  },
  {
   "cell_type": "code",
   "execution_count": null,
   "id": "08111d7b-28a2-4ed1-af9e-8e521ebb7437",
   "metadata": {},
   "outputs": [],
   "source": [
    "\"\"\"35.Write a code that inverts a dictionary swapping keys and values. Ensure that the inverted dictionary\n",
    "correctly handles cases where multiple keys have the same value by storing the keys as a list in the inverted \n",
    "dictionary."
   ]
  },
  {
   "cell_type": "code",
   "execution_count": 15,
   "id": "63b35ff6-7bce-4bb2-bda6-4c5ea4fcb516",
   "metadata": {},
   "outputs": [
    {
     "name": "stdout",
     "output_type": "stream",
     "text": [
      "Inverted dictionary: {1: ['a', 'c'], 2: ['b', 'e'], 3: ['d']}\n"
     ]
    }
   ],
   "source": [
    "def invert_dictionary(dictionary):\n",
    "    inverted_dict = {}\n",
    "    for key, value in dictionary.items():\n",
    "        if value in inverted_dict:\n",
    "            inverted_dict[value].append(key)\n",
    "        else:\n",
    "            inverted_dict[value] = [key]\n",
    "    return inverted_dict\n",
    "\n",
    "input_dict = {\n",
    "    'a': 1,\n",
    "    'b': 2,\n",
    "    'c': 1,\n",
    "    'd': 3,\n",
    "    'e': 2\n",
    "}\n",
    "\n",
    "inverted_dict = invert_dictionary(input_dict)\n",
    "\n",
    "print(\"Inverted dictionary:\", inverted_dict)"
   ]
  },
  {
   "cell_type": "code",
   "execution_count": null,
   "id": "98cb6658-b3ff-483e-bb0e-a4b3568344a3",
   "metadata": {},
   "outputs": [],
   "source": []
  }
 ],
 "metadata": {
  "kernelspec": {
   "display_name": "Python 3 (ipykernel)",
   "language": "python",
   "name": "python3"
  },
  "language_info": {
   "codemirror_mode": {
    "name": "ipython",
    "version": 3
   },
   "file_extension": ".py",
   "mimetype": "text/x-python",
   "name": "python",
   "nbconvert_exporter": "python",
   "pygments_lexer": "ipython3",
   "version": "3.10.8"
  }
 },
 "nbformat": 4,
 "nbformat_minor": 5
}
